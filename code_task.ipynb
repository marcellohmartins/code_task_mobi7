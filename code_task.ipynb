{
  "nbformat": 4,
  "nbformat_minor": 0,
  "metadata": {
    "colab": {
      "name": "code_task.ipynb",
      "provenance": [],
      "collapsed_sections": []
    },
    "kernelspec": {
      "name": "python3",
      "display_name": "Python 3"
    },
    "language_info": {
      "name": "python"
    }
  },
  "cells": [
    {
      "cell_type": "code",
      "metadata": {
        "id": "nXxFwwGTTzzh"
      },
      "source": [
        "import pandas as pd\n",
        "from datetime import datetime, date, timedelta \n",
        "import math\n",
        "import pprint\n",
        "import plotly.express as px\n",
        "from google.colab import drive\n",
        "drive.mount('/content/drive')"
      ],
      "execution_count": 119,
      "outputs": []
    },
    {
      "cell_type": "code",
      "metadata": {
        "id": "UFVC6oswUSbC"
      },
      "source": [
        "# caminho, url ou link dos arquivos que contem as posições dos veículos (posições) e do arquivo da localização das pois\n",
        "\n",
        "posicoes = '/content/drive/MyDrive/Code task - Mobi7/posicoes.csv'\n",
        "pois = '/content/drive/MyDrive/Code task - Mobi7/base_pois_def.csv'"
      ],
      "execution_count": 96,
      "outputs": []
    },
    {
      "cell_type": "code",
      "metadata": {
        "id": "ZpLeOCQYUoZ3"
      },
      "source": [
        "# converte os csv em pandas dataframes\n",
        "\n",
        "df_posi = pd.read_csv(posicoes)\n",
        "df_pois = pd.read_csv(pois)"
      ],
      "execution_count": 97,
      "outputs": []
    },
    {
      "cell_type": "code",
      "metadata": {
        "id": "Yw2UkJ2IphBV"
      },
      "source": [
        "# haversine - fórmula para encontrar distâncias de lat long em distância terrestre\n",
        "\n",
        "#raio da terra\n",
        "R = 6373.0 \n",
        "\n",
        "# conversão das coordenadas para radianos\n",
        "\n",
        "df_posi['lat_rad'] = df_posi['latitude'].apply(math.radians)\n",
        "df_posi['long_rad'] = df_posi['longitude'].apply(math.radians)\n",
        "\n",
        "df_pois['lat_rad'] = df_pois['latitude'].apply(math.radians)\n",
        "df_pois['long_rad'] = df_pois['longitude'].apply(math.radians)"
      ],
      "execution_count": 98,
      "outputs": []
    },
    {
      "cell_type": "code",
      "metadata": {
        "id": "8Gfxmslf5dib"
      },
      "source": [
        "def poi(df_posi):\n",
        "  \n",
        "  lista = []\n",
        "\n",
        "  global df_pois\n",
        "\n",
        "  for j in df_pois.index:\n",
        "    dlon = df_pois.loc[j,'long_rad'] - df_posi['long_rad']\n",
        "    dlat = df_pois.loc[j,'lat_rad'] - df_posi['lat_rad']\n",
        "\n",
        "    a = math.sin(dlat/2)**2 + math.cos(df_posi['lat_rad']) * math.cos(df_pois.loc[j,'lat_rad']) * math.sin(dlon/2)**2\n",
        "\n",
        "    c = 2*math.atan2(math.sqrt(a), math.sqrt(1-a))\n",
        "    distance = R * c *1000\n",
        "\n",
        "    # lista.append(distance)\n",
        "\n",
        "    if distance <= df_pois.loc[j,'raio']:\n",
        "      return j\n",
        "    #else:\n",
        "    #  return 'fora do poi'\n",
        "\n",
        "  #return df_stop\n",
        "  return 'fora do poi' \n",
        "\n",
        "df_posi['poi'] = df_posi.apply(poi, axis=1)"
      ],
      "execution_count": 99,
      "outputs": []
    },
    {
      "cell_type": "code",
      "metadata": {
        "id": "S25DKczve_3Z"
      },
      "source": [
        "# Tratamento da data para um formato em que seja possível calcular o timedelta\n",
        "\n",
        "df_posi['data_posicao'] = df_posi['data_posicao'].str.split('G', 1, True)\n",
        "df_posi['data_posicao'] = df_posi['data_posicao'].apply(lambda x: x.rstrip())\n",
        "df_posi['data_posicao'] = df_posi['data_posicao'].apply(lambda x: datetime.strptime(x, '%a %b %d %Y %H:%M:%S'))\n",
        "df_posi.sort_values(by = ['placa','data_posicao'], ascending = True, inplace= True, ignore_index=True)"
      ],
      "execution_count": 100,
      "outputs": []
    },
    {
      "cell_type": "code",
      "metadata": {
        "id": "vFIwofgAVO19",
        "colab": {
          "base_uri": "https://localhost:8080/"
        },
        "outputId": "9f6e6373-6c92-4db9-b465-fd0196b319fd"
      },
      "source": [
        "# encontrando os resultados e inserindo em um dicionário\n",
        "# cada chave do dicionário tem o dado do poi / placa / situação da ignição\n",
        "\n",
        "resultados = {}\n",
        "\n",
        "data_inicial = None\n",
        "estado_ignicao = None\n",
        "\n",
        "for i in df_posi.index:\n",
        "  \n",
        "  if data_inicial != None and estado_ignicao == df_posi['ignicao'][i]:\n",
        "\n",
        "    diff = df_posi['data_posicao'][i] - data_inicial\n",
        "\n",
        "    #total placa\n",
        "    if not df_posi['placa'][i] in resultados:\n",
        "      resultados[df_posi['placa'][i]] = timedelta(0)\n",
        "    resultados[df_posi['placa'][i]] += diff\n",
        "\n",
        "    # total placa desligado\n",
        "\n",
        "    if df_posi['ignicao'][i] == False:\n",
        "\n",
        "      if not (df_posi['placa'][i]+'off') in resultados:\n",
        "        resultados[df_posi['placa'][i]+'off'] = timedelta(0)\n",
        "      resultados[df_posi['placa'][i]+'off'] += diff\n",
        "\n",
        "    # total poi\n",
        "\n",
        "    if not (df_posi['poi'][i]) in resultados:\n",
        "      resultados[df_posi['poi'][i]] = timedelta(0) \n",
        "    resultados[df_posi['poi'][i]] += diff \n",
        "\n",
        "    # total parado por poi\n",
        "\n",
        "    if df_posi['ignicao'][i] == False: \n",
        "\n",
        "      if not (str(df_posi['poi'][i])+'off') in resultados:\n",
        "        resultados[str(df_posi['poi'][i])+'off'] = timedelta(0)\n",
        "      resultados[str(df_posi['poi'][i])+'off'] += diff\n",
        "\n",
        "    # total parado por poi por veículo\n",
        "\n",
        "    if df_posi['ignicao'][i] == False:\n",
        "\n",
        "      if not (str(df_posi['poi'][i])+df_posi['placa'][i]) in resultados:\n",
        "        resultados[str(df_posi['poi'][i])+df_posi['placa'][i]] = timedelta(0)\n",
        "      resultados[str(df_posi['poi'][i])+df_posi['placa'][i]] += diff\n",
        "    \n",
        "  data_inicial = df_posi['data_posicao'][i]\n",
        "  estado_ignicao = df_posi['ignicao'][i]\n",
        "\n",
        "pp = pprint.PrettyPrinter(indent=4)\n",
        "pp.pprint(resultados)"
      ],
      "execution_count": 102,
      "outputs": [
        {
          "output_type": "stream",
          "text": [
            "{   0: Timedelta('0 days 00:24:20'),\n",
            "    1: Timedelta('0 days 00:52:32'),\n",
            "    23: Timedelta('6 days 16:15:26'),\n",
            "    '0TESTE001': Timedelta('0 days 00:00:00'),\n",
            "    '0off': Timedelta('0 days 00:00:00'),\n",
            "    '1TESTE001': Timedelta('0 days 00:32:03'),\n",
            "    '1off': Timedelta('0 days 00:32:03'),\n",
            "    '23CAR0012': Timedelta('3 days 23:11:25'),\n",
            "    '23TESTE001': Timedelta('2 days 15:40:24'),\n",
            "    '23off': Timedelta('6 days 14:51:49'),\n",
            "    'CAR0012': Timedelta('3 days 23:35:24'),\n",
            "    'CAR0012off': Timedelta('3 days 23:11:25'),\n",
            "    'TESTE001': Timedelta('2 days 21:45:09'),\n",
            "    'TESTE001off': Timedelta('2 days 16:12:27'),\n",
            "    'fora do poi': Timedelta('0 days 03:48:15')}\n"
          ],
          "name": "stdout"
        }
      ]
    },
    {
      "cell_type": "code",
      "metadata": {
        "colab": {
          "base_uri": "https://localhost:8080/",
          "height": 542
        },
        "id": "b18AtkEmv1cA",
        "outputId": "84bf1787-d03a-4f88-872b-268863565cc7"
      },
      "source": [
        "# fig = px.scatter_geo(df_pois, lat=df_pois['latitude'], lon=df_pois['longitude'], size=\"raio\", hover_name = df_pois['nome'])\n",
        "#fig.show()"
      ],
      "execution_count": 118,
      "outputs": [
        {
          "output_type": "display_data",
          "data": {
            "text/html": [
              "<html>\n",
              "<head><meta charset=\"utf-8\" /></head>\n",
              "<body>\n",
              "    <div>\n",
              "            <script src=\"https://cdnjs.cloudflare.com/ajax/libs/mathjax/2.7.5/MathJax.js?config=TeX-AMS-MML_SVG\"></script><script type=\"text/javascript\">if (window.MathJax) {MathJax.Hub.Config({SVG: {font: \"STIX-Web\"}});}</script>\n",
              "                <script type=\"text/javascript\">window.PlotlyConfig = {MathJaxConfig: 'local'};</script>\n",
              "        <script src=\"https://cdn.plot.ly/plotly-latest.min.js\"></script>    \n",
              "            <div id=\"10640501-53b5-4ba4-8fc2-968aab34de5f\" class=\"plotly-graph-div\" style=\"height:525px; width:100%;\"></div>\n",
              "            <script type=\"text/javascript\">\n",
              "                \n",
              "                    window.PLOTLYENV=window.PLOTLYENV || {};\n",
              "                    \n",
              "                if (document.getElementById(\"10640501-53b5-4ba4-8fc2-968aab34de5f\")) {\n",
              "                    Plotly.newPlot(\n",
              "                        '10640501-53b5-4ba4-8fc2-968aab34de5f',\n",
              "                        [{\"geo\": \"geo\", \"hoverlabel\": {\"namelength\": 0}, \"hovertemplate\": \"<b>%{hovertext}</b><br><br>raio=%{marker.size}<br>latitude=%{lat}<br>longitude=%{lon}\", \"hovertext\": [\"PONTO 1\", \"PONTO 2\", \"PONTO 3\", \"PONTO 4\", \"PONTO 5\", \"PONTO 6\", \"PONTO 7\", \"PONTO 8\", \"PONTO 9\", \"PONTO 10\", \"PONTO 11\", \"PONTO 12\", \"PONTO 13\", \"PONTO 14\", \"PONTO 15\", \"PONTO 16\", \"PONTO 17\", \"PONTO 18\", \"PONTO 19\", \"PONTO 20\", \"PONTO 21\", \"PONTO 22\", \"PONTO 23\", \"PONTO 24\"], \"lat\": [-25.567427017408964, -25.568056, -25.414167000000003, -25.718611, -25.372404598070514, -22.71825240621495, -25.336667000000002, -24.558056, -24.940832999999998, -25.279167, -25.498056, -20.071389, -21.678055999999998, -23.6525, -8.112778, -22.754444, -25.419167, -25.5375, -25.152222000000002, -23.598889, -22.124722, -25.445278, -25.547778, -25.363332999999997], \"legendgroup\": \"\", \"lon\": [-51.476533636450775, -51.480278000000006, -51.566944, -51.831111, -51.49734262260608, -46.78627558343578, -51.5125, -54.03694399999999, -50.793611, -51.628333000000005, -49.275, -45.312222, -43.445833, -46.716389, -34.933889, -45.122778000000004, -51.4875, -48.554722, -50.132778, -46.888611, -43.225833, -51.654722, -49.307221999999996, -51.468333], \"marker\": {\"color\": \"#636efa\", \"size\": [300, 300, 250, 250, 163, 170, 250, 250, 250, 250, 250, 250, 250, 250, 250, 250, 250, 250, 250, 250, 250, 250, 250, 350], \"sizemode\": \"area\", \"sizeref\": 0.875}, \"name\": \"\", \"showlegend\": false, \"type\": \"scattergeo\"}],\n",
              "                        {\"geo\": {\"center\": {}, \"domain\": {\"x\": [0.0, 1.0], \"y\": [0.0, 1.0]}}, \"legend\": {\"itemsizing\": \"constant\", \"tracegroupgap\": 0}, \"margin\": {\"t\": 60}, \"template\": {\"data\": {\"bar\": [{\"error_x\": {\"color\": \"#2a3f5f\"}, \"error_y\": {\"color\": \"#2a3f5f\"}, \"marker\": {\"line\": {\"color\": \"#E5ECF6\", \"width\": 0.5}}, \"type\": \"bar\"}], \"barpolar\": [{\"marker\": {\"line\": {\"color\": \"#E5ECF6\", \"width\": 0.5}}, \"type\": \"barpolar\"}], \"carpet\": [{\"aaxis\": {\"endlinecolor\": \"#2a3f5f\", \"gridcolor\": \"white\", \"linecolor\": \"white\", \"minorgridcolor\": \"white\", \"startlinecolor\": \"#2a3f5f\"}, \"baxis\": {\"endlinecolor\": \"#2a3f5f\", \"gridcolor\": \"white\", \"linecolor\": \"white\", \"minorgridcolor\": \"white\", \"startlinecolor\": \"#2a3f5f\"}, \"type\": \"carpet\"}], \"choropleth\": [{\"colorbar\": {\"outlinewidth\": 0, \"ticks\": \"\"}, \"type\": \"choropleth\"}], \"contour\": [{\"colorbar\": {\"outlinewidth\": 0, \"ticks\": \"\"}, \"colorscale\": [[0.0, \"#0d0887\"], [0.1111111111111111, \"#46039f\"], [0.2222222222222222, \"#7201a8\"], [0.3333333333333333, \"#9c179e\"], [0.4444444444444444, \"#bd3786\"], [0.5555555555555556, \"#d8576b\"], [0.6666666666666666, \"#ed7953\"], [0.7777777777777778, \"#fb9f3a\"], [0.8888888888888888, \"#fdca26\"], [1.0, \"#f0f921\"]], \"type\": \"contour\"}], \"contourcarpet\": [{\"colorbar\": {\"outlinewidth\": 0, \"ticks\": \"\"}, \"type\": \"contourcarpet\"}], \"heatmap\": [{\"colorbar\": {\"outlinewidth\": 0, \"ticks\": \"\"}, \"colorscale\": [[0.0, \"#0d0887\"], [0.1111111111111111, \"#46039f\"], [0.2222222222222222, \"#7201a8\"], [0.3333333333333333, \"#9c179e\"], [0.4444444444444444, \"#bd3786\"], [0.5555555555555556, \"#d8576b\"], [0.6666666666666666, \"#ed7953\"], [0.7777777777777778, \"#fb9f3a\"], [0.8888888888888888, \"#fdca26\"], [1.0, \"#f0f921\"]], \"type\": \"heatmap\"}], \"heatmapgl\": [{\"colorbar\": {\"outlinewidth\": 0, \"ticks\": \"\"}, \"colorscale\": [[0.0, \"#0d0887\"], [0.1111111111111111, \"#46039f\"], [0.2222222222222222, \"#7201a8\"], [0.3333333333333333, \"#9c179e\"], [0.4444444444444444, \"#bd3786\"], [0.5555555555555556, \"#d8576b\"], [0.6666666666666666, \"#ed7953\"], [0.7777777777777778, \"#fb9f3a\"], [0.8888888888888888, \"#fdca26\"], [1.0, \"#f0f921\"]], \"type\": \"heatmapgl\"}], \"histogram\": [{\"marker\": {\"colorbar\": {\"outlinewidth\": 0, \"ticks\": \"\"}}, \"type\": \"histogram\"}], \"histogram2d\": [{\"colorbar\": {\"outlinewidth\": 0, \"ticks\": \"\"}, \"colorscale\": [[0.0, \"#0d0887\"], [0.1111111111111111, \"#46039f\"], [0.2222222222222222, \"#7201a8\"], [0.3333333333333333, \"#9c179e\"], [0.4444444444444444, \"#bd3786\"], [0.5555555555555556, \"#d8576b\"], [0.6666666666666666, \"#ed7953\"], [0.7777777777777778, \"#fb9f3a\"], [0.8888888888888888, \"#fdca26\"], [1.0, \"#f0f921\"]], \"type\": \"histogram2d\"}], \"histogram2dcontour\": [{\"colorbar\": {\"outlinewidth\": 0, \"ticks\": \"\"}, \"colorscale\": [[0.0, \"#0d0887\"], [0.1111111111111111, \"#46039f\"], [0.2222222222222222, \"#7201a8\"], [0.3333333333333333, \"#9c179e\"], [0.4444444444444444, \"#bd3786\"], [0.5555555555555556, \"#d8576b\"], [0.6666666666666666, \"#ed7953\"], [0.7777777777777778, \"#fb9f3a\"], [0.8888888888888888, \"#fdca26\"], [1.0, \"#f0f921\"]], \"type\": \"histogram2dcontour\"}], \"mesh3d\": [{\"colorbar\": {\"outlinewidth\": 0, \"ticks\": \"\"}, \"type\": \"mesh3d\"}], \"parcoords\": [{\"line\": {\"colorbar\": {\"outlinewidth\": 0, \"ticks\": \"\"}}, \"type\": \"parcoords\"}], \"pie\": [{\"automargin\": true, \"type\": \"pie\"}], \"scatter\": [{\"marker\": {\"colorbar\": {\"outlinewidth\": 0, \"ticks\": \"\"}}, \"type\": \"scatter\"}], \"scatter3d\": [{\"line\": {\"colorbar\": {\"outlinewidth\": 0, \"ticks\": \"\"}}, \"marker\": {\"colorbar\": {\"outlinewidth\": 0, \"ticks\": \"\"}}, \"type\": \"scatter3d\"}], \"scattercarpet\": [{\"marker\": {\"colorbar\": {\"outlinewidth\": 0, \"ticks\": \"\"}}, \"type\": \"scattercarpet\"}], \"scattergeo\": [{\"marker\": {\"colorbar\": {\"outlinewidth\": 0, \"ticks\": \"\"}}, \"type\": \"scattergeo\"}], \"scattergl\": [{\"marker\": {\"colorbar\": {\"outlinewidth\": 0, \"ticks\": \"\"}}, \"type\": \"scattergl\"}], \"scattermapbox\": [{\"marker\": {\"colorbar\": {\"outlinewidth\": 0, \"ticks\": \"\"}}, \"type\": \"scattermapbox\"}], \"scatterpolar\": [{\"marker\": {\"colorbar\": {\"outlinewidth\": 0, \"ticks\": \"\"}}, \"type\": \"scatterpolar\"}], \"scatterpolargl\": [{\"marker\": {\"colorbar\": {\"outlinewidth\": 0, \"ticks\": \"\"}}, \"type\": \"scatterpolargl\"}], \"scatterternary\": [{\"marker\": {\"colorbar\": {\"outlinewidth\": 0, \"ticks\": \"\"}}, \"type\": \"scatterternary\"}], \"surface\": [{\"colorbar\": {\"outlinewidth\": 0, \"ticks\": \"\"}, \"colorscale\": [[0.0, \"#0d0887\"], [0.1111111111111111, \"#46039f\"], [0.2222222222222222, \"#7201a8\"], [0.3333333333333333, \"#9c179e\"], [0.4444444444444444, \"#bd3786\"], [0.5555555555555556, \"#d8576b\"], [0.6666666666666666, \"#ed7953\"], [0.7777777777777778, \"#fb9f3a\"], [0.8888888888888888, \"#fdca26\"], [1.0, \"#f0f921\"]], \"type\": \"surface\"}], \"table\": [{\"cells\": {\"fill\": {\"color\": \"#EBF0F8\"}, \"line\": {\"color\": \"white\"}}, \"header\": {\"fill\": {\"color\": \"#C8D4E3\"}, \"line\": {\"color\": \"white\"}}, \"type\": \"table\"}]}, \"layout\": {\"annotationdefaults\": {\"arrowcolor\": \"#2a3f5f\", \"arrowhead\": 0, \"arrowwidth\": 1}, \"coloraxis\": {\"colorbar\": {\"outlinewidth\": 0, \"ticks\": \"\"}}, \"colorscale\": {\"diverging\": [[0, \"#8e0152\"], [0.1, \"#c51b7d\"], [0.2, \"#de77ae\"], [0.3, \"#f1b6da\"], [0.4, \"#fde0ef\"], [0.5, \"#f7f7f7\"], [0.6, \"#e6f5d0\"], [0.7, \"#b8e186\"], [0.8, \"#7fbc41\"], [0.9, \"#4d9221\"], [1, \"#276419\"]], \"sequential\": [[0.0, \"#0d0887\"], [0.1111111111111111, \"#46039f\"], [0.2222222222222222, \"#7201a8\"], [0.3333333333333333, \"#9c179e\"], [0.4444444444444444, \"#bd3786\"], [0.5555555555555556, \"#d8576b\"], [0.6666666666666666, \"#ed7953\"], [0.7777777777777778, \"#fb9f3a\"], [0.8888888888888888, \"#fdca26\"], [1.0, \"#f0f921\"]], \"sequentialminus\": [[0.0, \"#0d0887\"], [0.1111111111111111, \"#46039f\"], [0.2222222222222222, \"#7201a8\"], [0.3333333333333333, \"#9c179e\"], [0.4444444444444444, \"#bd3786\"], [0.5555555555555556, \"#d8576b\"], [0.6666666666666666, \"#ed7953\"], [0.7777777777777778, \"#fb9f3a\"], [0.8888888888888888, \"#fdca26\"], [1.0, \"#f0f921\"]]}, \"colorway\": [\"#636efa\", \"#EF553B\", \"#00cc96\", \"#ab63fa\", \"#FFA15A\", \"#19d3f3\", \"#FF6692\", \"#B6E880\", \"#FF97FF\", \"#FECB52\"], \"font\": {\"color\": \"#2a3f5f\"}, \"geo\": {\"bgcolor\": \"white\", \"lakecolor\": \"white\", \"landcolor\": \"#E5ECF6\", \"showlakes\": true, \"showland\": true, \"subunitcolor\": \"white\"}, \"hoverlabel\": {\"align\": \"left\"}, \"hovermode\": \"closest\", \"mapbox\": {\"style\": \"light\"}, \"paper_bgcolor\": \"white\", \"plot_bgcolor\": \"#E5ECF6\", \"polar\": {\"angularaxis\": {\"gridcolor\": \"white\", \"linecolor\": \"white\", \"ticks\": \"\"}, \"bgcolor\": \"#E5ECF6\", \"radialaxis\": {\"gridcolor\": \"white\", \"linecolor\": \"white\", \"ticks\": \"\"}}, \"scene\": {\"xaxis\": {\"backgroundcolor\": \"#E5ECF6\", \"gridcolor\": \"white\", \"gridwidth\": 2, \"linecolor\": \"white\", \"showbackground\": true, \"ticks\": \"\", \"zerolinecolor\": \"white\"}, \"yaxis\": {\"backgroundcolor\": \"#E5ECF6\", \"gridcolor\": \"white\", \"gridwidth\": 2, \"linecolor\": \"white\", \"showbackground\": true, \"ticks\": \"\", \"zerolinecolor\": \"white\"}, \"zaxis\": {\"backgroundcolor\": \"#E5ECF6\", \"gridcolor\": \"white\", \"gridwidth\": 2, \"linecolor\": \"white\", \"showbackground\": true, \"ticks\": \"\", \"zerolinecolor\": \"white\"}}, \"shapedefaults\": {\"line\": {\"color\": \"#2a3f5f\"}}, \"ternary\": {\"aaxis\": {\"gridcolor\": \"white\", \"linecolor\": \"white\", \"ticks\": \"\"}, \"baxis\": {\"gridcolor\": \"white\", \"linecolor\": \"white\", \"ticks\": \"\"}, \"bgcolor\": \"#E5ECF6\", \"caxis\": {\"gridcolor\": \"white\", \"linecolor\": \"white\", \"ticks\": \"\"}}, \"title\": {\"x\": 0.05}, \"xaxis\": {\"automargin\": true, \"gridcolor\": \"white\", \"linecolor\": \"white\", \"ticks\": \"\", \"title\": {\"standoff\": 15}, \"zerolinecolor\": \"white\", \"zerolinewidth\": 2}, \"yaxis\": {\"automargin\": true, \"gridcolor\": \"white\", \"linecolor\": \"white\", \"ticks\": \"\", \"title\": {\"standoff\": 15}, \"zerolinecolor\": \"white\", \"zerolinewidth\": 2}}}},\n",
              "                        {\"responsive\": true}\n",
              "                    ).then(function(){\n",
              "                            \n",
              "var gd = document.getElementById('10640501-53b5-4ba4-8fc2-968aab34de5f');\n",
              "var x = new MutationObserver(function (mutations, observer) {{\n",
              "        var display = window.getComputedStyle(gd).display;\n",
              "        if (!display || display === 'none') {{\n",
              "            console.log([gd, 'removed!']);\n",
              "            Plotly.purge(gd);\n",
              "            observer.disconnect();\n",
              "        }}\n",
              "}});\n",
              "\n",
              "// Listen for the removal of the full notebook cells\n",
              "var notebookContainer = gd.closest('#notebook-container');\n",
              "if (notebookContainer) {{\n",
              "    x.observe(notebookContainer, {childList: true});\n",
              "}}\n",
              "\n",
              "// Listen for the clearing of the current output cell\n",
              "var outputEl = gd.closest('.output');\n",
              "if (outputEl) {{\n",
              "    x.observe(outputEl, {childList: true});\n",
              "}}\n",
              "\n",
              "                        })\n",
              "                };\n",
              "                \n",
              "            </script>\n",
              "        </div>\n",
              "</body>\n",
              "</html>"
            ]
          },
          "metadata": {
            "tags": []
          }
        }
      ]
    }
  ]
}